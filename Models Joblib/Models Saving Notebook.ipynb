{
 "cells": [
  {
   "cell_type": "code",
   "execution_count": 12,
   "id": "bccf3a65",
   "metadata": {},
   "outputs": [
    {
     "name": "stdout",
     "output_type": "stream",
     "text": [
      "{'ANOVA-B-GN.pkl': 1, 'ANOVA-B-GB.pkl': 1, 'ANOVA-B-LR.pkl': 1, 'ANOVA-B-LR-L1.pkl': 1, 'ANOVA-B-LR-L2.pkl': 1, 'ANOVA-B-GB-GSCV.pkl': 1}\n"
     ]
    }
   ],
   "source": [
    "import joblib\n",
    "import pandas as pd\n",
    "\n",
    "# List of model filenames\n",
    "models = [\n",
    "    'ANOVA-B-GN.pkl',\n",
    "    'ANOVA-B-GB.pkl',\n",
    "    'ANOVA-B-LR.pkl',\n",
    "    'ANOVA-B-LR-L1.pkl',\n",
    "    'ANOVA-B-LR-L2.pkl',\n",
    "    'ANOVA-B-GB-GSCV.pkl'\n",
    "]\n",
    "\n",
    "# Provided data\n",
    "data = {\n",
    "    'state': [2],\n",
    "    'rate': [74.087490],\n",
    "    'sttl': [252],\n",
    "    'dload': [8495.365234],\n",
    "    'swin': [255],\n",
    "    'stcpb': [621772692],\n",
    "    'dtcpb': [2202533631],\n",
    "    'dwin': [255],\n",
    "    'ct_srv_src': [1],\n",
    "    'ct_state_ttl': [0],\n",
    "    'ct_src_dport_ltm': [1],\n",
    "    'ct_dst_sport_ltm': [1],\n",
    "    'ct_dst_src_ltm': [1],\n",
    "    'ct_srv_dst': [1],\n",
    "    'attack_cat': [0]\n",
    "}\n",
    "\n",
    "# Convert the data to a DataFrame\n",
    "df = pd.DataFrame(data)\n",
    "\n",
    "# Dictionary to store predictions from each model\n",
    "predictions = {}\n",
    "\n",
    "# Iterate over each model, load it, and make predictions\n",
    "for model_filename in models:\n",
    "    # Load the model\n",
    "    model = joblib.load(model_filename)\n",
    "    \n",
    "    # Make a prediction\n",
    "    prediction = model.predict(df)\n",
    "    \n",
    "    # Store the prediction in the dictionary\n",
    "    predictions[model_filename] = prediction[0]\n",
    "\n",
    "# Display the predictions\n",
    "print(predictions)\n"
   ]
  },
  {
   "cell_type": "code",
   "execution_count": 13,
   "id": "82025c36",
   "metadata": {},
   "outputs": [
    {
     "name": "stdout",
     "output_type": "stream",
     "text": [
      "{'ANOVA-M-GN.pkl': 'Normal', 'ANOVA-M-GB.pkl': 'Normal', 'ANOVA-M-LR.pkl': 'Normal', 'ANOVA-M-LR-L1.pkl': 'Exploits', 'ANOVA-M-LR-L2.pkl': 'Exploits', 'ANOVA-M-GB-GSCV.pkl': 'Reconnaissance'}\n"
     ]
    }
   ],
   "source": [
    "import joblib\n",
    "import pandas as pd\n",
    "\n",
    "# List of model filenames\n",
    "models = [\n",
    "    'ANOVA-M-GN.pkl',\n",
    "    'ANOVA-M-GB.pkl',\n",
    "    'ANOVA-M-LR.pkl',\n",
    "    'ANOVA-M-LR-L1.pkl',\n",
    "    'ANOVA-M-LR-L2.pkl',\n",
    "    'ANOVA-M-GB-GSCV.pkl'\n",
    "]\n",
    "\n",
    "# Provided data\n",
    "data = {\n",
    "    'state': [2],\n",
    "    'rate': [74.087490],\n",
    "    'sttl': [252],\n",
    "    'dttl': [8495.365234],\n",
    "    'swin': [255],\n",
    "    'stcpb': [621772692],\n",
    "    'dwin': [255],\n",
    "    'ct_srv_src': [1],\n",
    "    'ct_dst_ltm': [0],\n",
    "    'ct_src_dport_ltm': [1],\n",
    "    'ct_dst_sport_ltm': [1],\n",
    "    'ct_dst_src_ltm': [1],\n",
    "    'ct_src_ltm': [1],\n",
    "    'ct_srv_dst': [1],\n",
    "    'label': [0]\n",
    "}\n",
    "\n",
    "# Convert the data to a DataFrame\n",
    "df = pd.DataFrame(data)\n",
    "\n",
    "# Dictionary to store predictions from each model\n",
    "predictions = {}\n",
    "\n",
    "# Iterate over each model, load it, and make predictions\n",
    "for model_filename in models:\n",
    "    # Load the model\n",
    "    model = joblib.load(model_filename)\n",
    "    \n",
    "    # Make a prediction\n",
    "    prediction = model.predict(df)\n",
    "    \n",
    "    # Store the prediction in the dictionary\n",
    "    predictions[model_filename] = prediction[0]\n",
    "\n",
    "# Display the predictions\n",
    "print(predictions)\n"
   ]
  },
  {
   "cell_type": "code",
   "execution_count": null,
   "id": "cd2a0eab",
   "metadata": {},
   "outputs": [],
   "source": []
  }
 ],
 "metadata": {
  "kernelspec": {
   "display_name": "Python 3 (ipykernel)",
   "language": "python",
   "name": "python3"
  },
  "language_info": {
   "codemirror_mode": {
    "name": "ipython",
    "version": 3
   },
   "file_extension": ".py",
   "mimetype": "text/x-python",
   "name": "python",
   "nbconvert_exporter": "python",
   "pygments_lexer": "ipython3",
   "version": "3.10.12"
  }
 },
 "nbformat": 4,
 "nbformat_minor": 5
}

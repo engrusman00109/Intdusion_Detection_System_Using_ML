{
 "cells": [
  {
   "cell_type": "code",
   "execution_count": 1,
   "id": "966f5b22",
   "metadata": {},
   "outputs": [
    {
     "name": "stderr",
     "output_type": "stream",
     "text": [
      "/tmp/ipykernel_16553/4080736814.py:1: DeprecationWarning: \n",
      "Pyarrow will become a required dependency of pandas in the next major release of pandas (pandas 3.0),\n",
      "(to allow more performant data types, such as the Arrow string type, and better interoperability with other libraries)\n",
      "but was not found to be installed on your system.\n",
      "If this would cause problems for you,\n",
      "please provide us feedback at https://github.com/pandas-dev/pandas/issues/54466\n",
      "        \n",
      "  import pandas as pd\n"
     ]
    }
   ],
   "source": [
    "import pandas as pd"
   ]
  },
  {
   "cell_type": "code",
   "execution_count": 5,
   "id": "29c2dc21",
   "metadata": {},
   "outputs": [],
   "source": [
    "df=pd.read_csv(\"../UNSW_NB15_testing-set.csv\")"
   ]
  },
  {
   "cell_type": "code",
   "execution_count": 7,
   "id": "6bac6f87",
   "metadata": {},
   "outputs": [],
   "source": [
    "Selected_Features= ['state', 'rate', 'sttl', 'dttl', 'swin', 'stcpb', 'dtcpb', 'dwin', 'ct_srv_src', 'ct_state_ttl', 'ct_src_dport_ltm', 'ct_dst_sport_ltm', 'ct_dst_src_ltm', 'ct_srv_dst','ct_dst_ltm','ct_src_ltm']"
   ]
  },
  {
   "cell_type": "code",
   "execution_count": 8,
   "id": "28412267",
   "metadata": {},
   "outputs": [
    {
     "name": "stdout",
     "output_type": "stream",
     "text": [
      "state - Min: CON, Max: no\n",
      "rate - Min: 0.0, Max: 1000000.003\n",
      "sttl - Min: 0, Max: 255\n",
      "dttl - Min: 0, Max: 254\n",
      "swin - Min: 0, Max: 255\n",
      "stcpb - Min: 0, Max: 4294958913\n",
      "dtcpb - Min: 0, Max: 4294881924\n",
      "dwin - Min: 0, Max: 255\n",
      "ct_srv_src - Min: 1, Max: 63\n",
      "ct_state_ttl - Min: 0, Max: 6\n",
      "ct_src_dport_ltm - Min: 1, Max: 51\n",
      "ct_dst_sport_ltm - Min: 1, Max: 46\n",
      "ct_dst_src_ltm - Min: 1, Max: 65\n",
      "ct_srv_dst - Min: 1, Max: 62\n",
      "ct_dst_ltm - Min: 1, Max: 51\n",
      "ct_src_ltm - Min: 1, Max: 60\n"
     ]
    }
   ],
   "source": [
    "for feature in Selected_Features:\n",
    "    if feature in df.columns:\n",
    "        min_value = df[feature].min()\n",
    "        max_value = df[feature].max()\n",
    "        print(f'{feature} - Min: {min_value}, Max: {max_value}')\n",
    "    else:\n",
    "        print(f'{feature} is not in the dataset')\n"
   ]
  },
  {
   "cell_type": "code",
   "execution_count": null,
   "id": "5ca2bd1d",
   "metadata": {},
   "outputs": [],
   "source": []
  }
 ],
 "metadata": {
  "kernelspec": {
   "display_name": "Python 3 (ipykernel)",
   "language": "python",
   "name": "python3"
  },
  "language_info": {
   "codemirror_mode": {
    "name": "ipython",
    "version": 3
   },
   "file_extension": ".py",
   "mimetype": "text/x-python",
   "name": "python",
   "nbconvert_exporter": "python",
   "pygments_lexer": "ipython3",
   "version": "3.10.12"
  }
 },
 "nbformat": 4,
 "nbformat_minor": 5
}
